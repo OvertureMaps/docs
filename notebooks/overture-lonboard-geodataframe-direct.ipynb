{
 "cells": [
  {
   "cell_type": "code",
   "execution_count": 43,
   "id": "1da10bd6-f9ea-4eac-9cf6-bb2898d0ec2c",
   "metadata": {},
   "outputs": [],
   "source": [
    "import geopandas\n",
    "from overturemaps import core \n",
    "from lonboard import Map, ScatterplotLayer"
   ]
  },
  {
   "cell_type": "code",
   "execution_count": 44,
   "id": "d8562902-83d9-4596-bccf-a604f27c96e8",
   "metadata": {},
   "outputs": [],
   "source": [
    "# specify bounding box\n",
    "bbox = 9.106105, 45.427315, 9.263542, 45.5164"
   ]
  },
  {
   "cell_type": "code",
   "execution_count": 45,
   "id": "ff7ef625-8a2c-498b-adb7-5727958a20de",
   "metadata": {},
   "outputs": [],
   "source": [
    "# read in Overture place feature type, direct to geodataframe\n",
    "gdf = core.geodataframe(\"place\", bbox=bbox)"
   ]
  },
  {
   "cell_type": "code",
   "execution_count": null,
   "id": "35f52871-f8f0-48d4-ad08-7fb3b54c341c",
   "metadata": {},
   "outputs": [],
   "source": [
    "gdf.shape"
   ]
  },
  {
   "cell_type": "code",
   "execution_count": null,
   "id": "53441900-f890-448f-a799-c2f5b89c998c",
   "metadata": {},
   "outputs": [],
   "source": [
    "gdf.head()"
   ]
  },
  {
   "cell_type": "code",
   "execution_count": 57,
   "id": "6ed5aece-964d-4654-b963-8cb036a3bfe6",
   "metadata": {},
   "outputs": [],
   "source": [
    "gdf = gdf.set_crs('epsg:4326')"
   ]
  },
  {
   "cell_type": "code",
   "execution_count": null,
   "id": "6dc58c30-b2e3-4885-bae0-76871d4ea321",
   "metadata": {},
   "outputs": [],
   "source": [
    "# create map layer \n",
    "layer = ScatterplotLayer.from_geopandas(\n",
    "    gdf= gdf[['id', 'geometry', 'names', 'categories', 'confidence']],\n",
    "    get_fill_color=[0, 128, 128],\n",
    "    radius_min_pixels = 1.5,\n",
    ")\n",
    "\n",
    "view_state = {\n",
    "    \"longitude\": 9.18831,\n",
    "    \"latitude\": 45.464336,\n",
    "    \"zoom\": 13,\n",
    "    \"pitch\": 45,\n",
    "}\n",
    "m = Map(layer, view_state=view_state)\n",
    "m"
   ]
  },
  {
   "cell_type": "code",
   "execution_count": null,
   "id": "8324afec-dd18-4233-ab37-710ea07ecaa4",
   "metadata": {},
   "outputs": [],
   "source": []
  }
 ],
 "metadata": {
  "kernelspec": {
   "display_name": "Python 3 (ipykernel)",
   "language": "python",
   "name": "python3"
  },
  "language_info": {
   "codemirror_mode": {
    "name": "ipython",
    "version": 3
   },
   "file_extension": ".py",
   "mimetype": "text/x-python",
   "name": "python",
   "nbconvert_exporter": "python",
   "pygments_lexer": "ipython3",
   "version": "3.12.2"
  }
  
        