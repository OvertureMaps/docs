{
 "cells": [
  {
   "cell_type": "code",
   "execution_count": 143,
   "id": "1da10bd6-f9ea-4eac-9cf6-bb2898d0ec2c",
   "metadata": {},
   "outputs": [],
   "source": [
    "import pandas as pd\n",
    "import geopandas as gpd\n",
    "import overturemaps \n",
    "from shapely import wkb\n",
    "from lonboard import Map, PolygonLayer"
   ]
  },
  {
   "cell_type": "code",
   "execution_count": 144,
   "id": "d8562902-83d9-4596-bccf-a604f27c96e8",
   "metadata": {},
   "outputs": [],
   "source": [
    "# specify bounding box\n",
    "bbox = 9.106105, 45.427315, 9.263542, 45.5164"
   ]
  },
  {
   "cell_type": "code",
   "execution_count": 145,
   "id": "ff7ef625-8a2c-498b-adb7-5727958a20de",
   "metadata": {},
   "outputs": [],
   "source": [
    "# read in Overture building feature type\n",
    "table = overturemaps.record_batch_reader(\"building\", bbox).read_all()\n",
    "table = table.combine_chunks()"
   ]
  },
  {
   "cell_type": "code",
   "execution_count": null,
   "id": "6f961479-0c58-4db8-9856-d63fd80ca887",
   "metadata": {},
   "outputs": [],
   "source": [
    "type(table)"
   ]
  },
  {
   "cell_type": "code",
   "execution_count": null,
   "id": "35f52871-f8f0-48d4-ad08-7fb3b54c341c",
   "metadata": {},
   "outputs": [],
   "source": [
    "table.shape"
   ]
  },
  {
   "cell_type": "code",
   "execution_count": null,
   "id": "53441900-f890-448f-a799-c2f5b89c998c",
   "metadata": {},
   "outputs": [],
   "source": [
    "table.schema"
   ]
  },
  {
   "cell_type": "code",
   "execution_count": 148,
   "id": "939d7ec0-cda0-48eb-b51c-a1264d6a4b89",
   "metadata": {},
   "outputs": [],
   "source": [
    "# convert to dataframe\n",
    "df = table.to_pandas()"
   ]
  },
  {
   "cell_type": "code",
   "execution_count": 150,
   "id": "b9301825-e21e-4151-b18c-18208551271e",
   "metadata": {},
   "outputs": [],
   "source": [
    "# dataframe to geodataframe, set crs\n",
    "gdf = gpd.GeoDataFrame(\n",
    "    df, \n",
    "    geometry=df['geometry'].apply(wkb.loads), \n",
    "    crs=\"EPSG:4326\"\n",
    ")"
   ]
  },
  {
   "cell_type": "code",
   "execution_count": 156,
   "id": "6dc58c30-b2e3-4885-bae0-76871d4ea321",
   "metadata": {},
   "outputs": [],
   "source": [
    "# create map layer \n",
    "layer = PolygonLayer.from_geopandas(\n",
    "    gdf= gdf[['id', 'geometry', 'names']].reset_index(drop=True),\n",
    "    get_fill_color=[93, 103, 157],\n",
    "    get_line_color=[0, 128, 128],\n",
    ")"
   ]
  },
  {
   "cell_type": "code",
   "execution_count": null,
   "id": "89f30d96-1ace-41da-b11f-b57ccf8b26ce",
   "metadata": {},
   "outputs": [],
   "source": [
    "#render map\n",
    "view_state = {\n",
    "    \"longitude\": 9.18831,\n",
    "    \"latitude\": 45.464336,\n",
    "    \"zoom\": 13,\n",
    "    \"pitch\": 45,\n",
    "}\n",
    "m = Map(layer, view_state=view_state)\n",
    "m\n"
   ]
  },
  {
   "cell_type": "code",
   "execution_count": null,
   "id": "8324afec-dd18-4233-ab37-710ea07ecaa4",
   "metadata": {},
   "outputs": [],
   "source": []
  }
 ],
 "metadata": {
  "kernelspec": {
   "display_name": "Python 3 (ipykernel)",
   "language": "python",
   "name": "python3"
  },
  "language_info": {
   "codemirror_mode": {
    "name": "ipython",
    "version": 3
   },
   "file_extension": ".py",
   "mimetype": "text/x-python",
   "name": "python",
   "nbconvert_exporter": "python",
   "pygments_lexer": "ipython3",
   "version": "3.12.2"
  }
  
       
       
       