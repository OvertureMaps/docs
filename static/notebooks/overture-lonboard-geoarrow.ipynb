{
 "cells": [
  {
   "cell_type": "code",
   "execution_count": 46,
   "id": "1da10bd6-f9ea-4eac-9cf6-bb2898d0ec2c",
   "metadata": {},
   "outputs": [],
   "source": [
    "import overturemaps \n",
    "from lonboard import Map, PathLayer"
   ]
  },
  {
   "cell_type": "code",
   "execution_count": 47,
   "id": "d8562902-83d9-4596-bccf-a604f27c96e8",
   "metadata": {},
   "outputs": [],
   "source": [
    "# specify bounding box\n",
    "bbox = 9.106105,45.427315,9.263542,45.51647"
   ]
  },
  {
   "cell_type": "code",
   "execution_count": 48,
   "id": "ff7ef625-8a2c-498b-adb7-5727958a20de",
   "metadata": {},
   "outputs": [],
   "source": [
    "# read in Overture segment feature type\n",
    "table = overturemaps.record_batch_reader(\"segment\", bbox).read_all()\n",
    "table = table.combine_chunks()"
   ]
  },
  {
   "cell_type": "code",
   "execution_count": null,
   "id": "6f961479-0c58-4db8-9856-d63fd80ca887",
   "metadata": {},
   "outputs": [],
   "source": [
    "type(table)"
   ]
  },
  {
   "cell_type": "code",
   "execution_count": null,
   "id": "35f52871-f8f0-48d4-ad08-7fb3b54c341c",
   "metadata": {},
   "outputs": [],
   "source": [
    "table.shape"
   ]
  },
  {
   "cell_type": "code",
   "execution_count": null,
   "id": "53441900-f890-448f-a799-c2f5b89c998c",
   "metadata": {},
   "outputs": [],
   "source": [
    "table.schema"
   ]
  },
  {
   "cell_type": "code",
   "execution_count": 51,
   "id": "902d10fb-0582-428c-8834-3076836b5e37",
   "metadata": {},
   "outputs": [],
   "source": [
    "layer = PathLayer(\n",
    "    table=table.select([\"id\", \"geometry\", \"subtype\", \"class\", \"names\"]),\n",
    "    get_color=[255, 83, 73],\n",
    "    width_min_pixels=0.4,\n",
    ")"
   ]
  },
  {
   "cell_type": "code",
   "execution_count": null,
   "id": "11fd3340-08c2-4c96-b163-0459d1d72c34",
   "metadata": {},
   "outputs": [],
   "source": [
    "view_state = {\n",
    "    \"longitude\": 9.18831,\n",
    "    \"latitude\": 45.464336,\n",
    "    \"zoom\": 12,\n",
    "}\n",
    "m = Map(layer, view_state=view_state)\n",
    "m"
   ]
  },
  {
   "cell_type": "code",
   "execution_count": null,
   "id": "ed87c7a2-e433-467d-ba2c-42f6cfcaf133",
   "metadata": {},
   "outputs": [],
   "source": []
  }
 ],
 "metadata": {
  "kernelspec": {
   "display_name": "Python 3 (ipykernel)",
   "language": "python",
   "name": "python3"
  },
  "language_info": {
   "codemirror_mode": {
    "name": "ipython",
    "version": 3
   },
   "file_extension": ".py",
   "mimetype": "text/x-python",
   "name": "python",
   "nbconvert_exporter": "python",
   "pygments_lexer": "ipython3",
   "version": "3.12.2"
  }
  
       
      
       